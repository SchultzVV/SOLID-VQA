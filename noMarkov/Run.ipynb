{
 "cells": [
  {
   "cell_type": "code",
   "execution_count": 1,
   "metadata": {},
   "outputs": [],
   "source": [
    "from src.tools import *"
   ]
  },
  {
   "cell_type": "code",
   "execution_count": 7,
   "metadata": {},
   "outputs": [
    {
     "name": "stdout",
     "output_type": "stream",
     "text": [
      "[[ 0.2+0.j  0. +0.j  0. +0.j  0. +0.j]\n",
      " [ 0. +0.j  1.8+0.j -1.6+0.j  0. +0.j]\n",
      " [ 0. +0.j -1.6+0.j  1.8+0.j  0. +0.j]\n",
      " [ 0. +0.j  0. +0.j  0. +0.j  0.2+0.j]]\n"
     ]
    }
   ],
   "source": [
    "import sys as s\n",
    "from sympy import *\n",
    "\n",
    "import numpy as np\n",
    "init_printing(use_unicode=True)\n",
    "from matplotlib import pyplot as plt\n",
    "%matplotlib inline\n",
    "from sympy.physics.quantum.dagger import Dagger\n",
    "from sympy.physics.quantum import TensorProduct\n",
    "import scipy.interpolate\n",
    "import platform\n",
    "\n",
    "def werner_state(c1, c2, c3):\n",
    "    # c = [-0.8,-0.8,-0.8]\n",
    "    c = [c1, c2, c3]\n",
    "    index = 0\n",
    "    rho = np.zeros((4,4),dtype=complex)\n",
    "    for i in range(len(rho)):\n",
    "        rho[i,i] = 1\n",
    "    for i in c:\n",
    "        index += 1\n",
    "        rho += TensorProduct(i*Pauli(index),Pauli(index))\n",
    "    print(np.array(rho,dtype=complex))\n",
    "werner = werner_state(-0.8, -0.8, -0.8)\n",
    "#stical modeling \n",
    "Mais=(cb(2,0)+cb(2,1))/sqrt(2)\n",
    "Menos=(cb(2,0)-cb(2,1))/sqrt(2)\n",
    "werner"
   ]
  },
  {
   "cell_type": "code",
   "execution_count": 8,
   "metadata": {},
   "outputs": [
    {
     "name": "stdout",
     "output_type": "stream",
     "text": [
      "[[ 0.2+0.j  0. +0.j  0. +0.j  0. +0.j]\n",
      " [ 0. +0.j  1.8+0.j -1.6+0.j  0. +0.j]\n",
      " [ 0. +0.j -1.6+0.j  1.8+0.j  0. +0.j]\n",
      " [ 0. +0.j  0. +0.j  0. +0.j  0.2+0.j]]\n"
     ]
    }
   ],
   "source": [
    "\n",
    "def werner_state_t(c1, c2, c3, p):\n",
    "    # c = [-0.8,-0.8,-0.8]\n",
    "    p=1\n",
    "    c11 = c1*(1-p)**2\n",
    "    c22 = c2\n",
    "    c33 = c3*(1-p)**2\n",
    "    c = [c1, c2, c3]\n",
    "    index = 0\n",
    "    rho = np.zeros((4,4),dtype=complex)\n",
    "    for i in range(len(rho)):\n",
    "        rho[i,i] = 1\n",
    "    for i in c:\n",
    "        index += 1\n",
    "        rho += TensorProduct(i*Pauli(index),Pauli(index))\n",
    "    return np.array(rho,dtype=complex)\n",
    "\n",
    "print(werner_state_t(-0.8,-0.8,-0.8,1))\n"
   ]
  },
  {
   "cell_type": "code",
   "execution_count": null,
   "metadata": {},
   "outputs": [],
   "source": []
  },
  {
   "cell_type": "markdown",
   "metadata": {},
   "source": [
    "Nosso trabalho é uma simulação de dinâmica de sistema quântico aberto, que portanto, é descrita por um mapa (CPTP). Um estado desse tipo é composto de dois sistemas. A evolução do sistema composto é dado por operador unitário e os operadores que evoluem somente o sistema sem o ambiente são os operadores de Kraus. Vamos simular canais a partir dos operadores de Kraus, onde vamos obter o estado de maneira analítica através do cálculo analítico da isometria.  desse estado e comparar com o estado obtido a partir do proposto por presente em \\cite{zanetti_simulating_2022}. Também vamos inserir a preparação de estados realizada por um Algoritmo Quântico Variacional (VQA) em uma etapa desse protocolo. Os canais. Essa simulação é sobre os canais de Bit-Phase-flip (BPF), Amplitude Damping (AD), Bit-Flip (BF), Phase-Flip (PF), Phase-Damping (PD), Amplitude Damping Generalizado (ADG), Depolarizing (D), Lorentz (L) e Heisenberg-Weyl  Dephasing (H)"
   ]
  }
 ],
 "metadata": {
  "kernelspec": {
   "display_name": "env",
   "language": "python",
   "name": "python3"
  },
  "language_info": {
   "codemirror_mode": {
    "name": "ipython",
    "version": 3
   },
   "file_extension": ".py",
   "mimetype": "text/x-python",
   "name": "python",
   "nbconvert_exporter": "python",
   "pygments_lexer": "ipython3",
   "version": "3.10.12"
  },
  "orig_nbformat": 4
 },
 "nbformat": 4,
 "nbformat_minor": 2
}
