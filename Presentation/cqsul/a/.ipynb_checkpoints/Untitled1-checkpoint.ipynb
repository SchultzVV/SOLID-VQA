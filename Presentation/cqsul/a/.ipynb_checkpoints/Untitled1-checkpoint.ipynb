{
 "cells": [
  {
   "cell_type": "markdown",
   "id": "db40e188",
   "metadata": {
    "slideshow": {
     "slide_type": "slide"
    }
   },
   "source": [
    "![1.png](1.png)"
   ]
  },
  {
   "cell_type": "markdown",
   "id": "58393c33",
   "metadata": {
    "slideshow": {
     "slide_type": "slide"
    }
   },
   "source": [
    "<img src=\"1a.png\" alt=\"Drawing\" style=\"width: 600px;\"/>"
   ]
  },
  {
   "cell_type": "markdown",
   "id": "4e8af28e",
   "metadata": {
    "slideshow": {
     "slide_type": "slide"
    }
   },
   "source": [
    "<img src=\"2.png\" alt=\"Drawing\" style=\"width: 700px;\"/>"
   ]
  },
  {
   "cell_type": "markdown",
   "id": "2a4485fc",
   "metadata": {
    "slideshow": {
     "slide_type": "slide"
    }
   },
   "source": [
    "![3.png](3.png)"
   ]
  },
  {
   "cell_type": "markdown",
   "id": "0b77f140",
   "metadata": {
    "slideshow": {
     "slide_type": "slide"
    }
   },
   "source": [
    "![4.png](4.png)"
   ]
  },
  {
   "cell_type": "markdown",
   "id": "910762d4",
   "metadata": {
    "slideshow": {
     "slide_type": "slide"
    }
   },
   "source": [
    "<img src=\"5.png\" alt=\"Drawing\" style=\"width: 800px;\"/>"
   ]
  },
  {
   "cell_type": "markdown",
   "id": "f7179e05",
   "metadata": {
    "slideshow": {
     "slide_type": "slide"
    }
   },
   "source": [
    "<img src=\"6.png\" alt=\"Drawing\" style=\"width: 1600px;\"/>"
   ]
  },
  {
   "cell_type": "markdown",
   "id": "8f633361",
   "metadata": {
    "slideshow": {
     "slide_type": "slide"
    }
   },
   "source": [
    "<img src=\"7.png\" alt=\"Drawing\" style=\"width: 1600px;\"/>"
   ]
  },
  {
   "cell_type": "markdown",
   "id": "de4399d6",
   "metadata": {
    "slideshow": {
     "slide_type": "slide"
    }
   },
   "source": [
    "<img src=\"7aa.png\" alt=\"Drawing\" style=\"width: 1600px;\"/>"
   ]
  },
  {
   "cell_type": "markdown",
   "id": "ac809fc9",
   "metadata": {
    "slideshow": {
     "slide_type": "slide"
    }
   },
   "source": [
    "<img src=\"7a.png\" alt=\"Drawing\" style=\"width: 1600px;\"/>"
   ]
  },
  {
   "cell_type": "markdown",
   "id": "d50c54bb",
   "metadata": {
    "slideshow": {
     "slide_type": "slide"
    }
   },
   "source": [
    "<img src=\"7b.png\" alt=\"Drawing\" style=\"width: 1600px;\"/>"
   ]
  },
  {
   "cell_type": "markdown",
   "id": "db4e70f8",
   "metadata": {
    "slideshow": {
     "slide_type": "slide"
    }
   },
   "source": [
    "<img src=\"7c.png\" alt=\"Drawing\" style=\"width: 1600px;\"/>"
   ]
  },
  {
   "cell_type": "markdown",
   "id": "a191e352",
   "metadata": {
    "slideshow": {
     "slide_type": "slide"
    }
   },
   "source": [
    "<img src=\"8.png\" alt=\"Drawing\" style=\"width: 1600px;\"/>"
   ]
  },
  {
   "cell_type": "markdown",
   "id": "b664a467",
   "metadata": {
    "slideshow": {
     "slide_type": "slide"
    }
   },
   "source": [
    "<img src=\"9.png\" alt=\"Drawing\" style=\"width: 1600px;\"/>"
   ]
  },
  {
   "cell_type": "markdown",
   "id": "d1bae030",
   "metadata": {
    "slideshow": {
     "slide_type": "slide"
    }
   },
   "source": [
    "<img src=\"10.png\" alt=\"Drawing\" style=\"width: 600px;\"/>"
   ]
  },
  {
   "cell_type": "markdown",
   "id": "817ab44d",
   "metadata": {
    "slideshow": {
     "slide_type": "slide"
    }
   },
   "source": [
    "<img src=\"10b.png\" alt=\"Drawing\" style=\"width: 1600px;\"/>"
   ]
  },
  {
   "cell_type": "markdown",
   "id": "ee8e0943",
   "metadata": {
    "slideshow": {
     "slide_type": "slide"
    }
   },
   "source": [
    "<img src=\"10a.png\" alt=\"Drawing\" style=\"width: 1600px;\"/>"
   ]
  },
  {
   "cell_type": "markdown",
   "id": "07b5b66d",
   "metadata": {
    "slideshow": {
     "slide_type": "slide"
    }
   },
   "source": [
    "<img src=\"10c.png\" alt=\"Drawing\" style=\"width: 1600px;\"/>"
   ]
  },
  {
   "cell_type": "markdown",
   "id": "a66428fa",
   "metadata": {
    "slideshow": {
     "slide_type": "slide"
    }
   },
   "source": [
    "<img src=\"11.png\" alt=\"Drawing\" style=\"width: 1600px;\"/>"
   ]
  },
  {
   "cell_type": "markdown",
   "id": "3dda893e",
   "metadata": {
    "slideshow": {
     "slide_type": "slide"
    }
   },
   "source": [
    "<img src=\"12.png\" alt=\"Drawing\" style=\"width: 1600px;\"/>"
   ]
  },
  {
   "cell_type": "markdown",
   "id": "21dbed25",
   "metadata": {
    "slideshow": {
     "slide_type": "slide"
    }
   },
   "source": [
    "<img src=\"13.png\" alt=\"Drawing\" style=\"width: 1600px;\"/>"
   ]
  },
  {
   "cell_type": "markdown",
   "id": "ab505489",
   "metadata": {
    "slideshow": {
     "slide_type": "slide"
    }
   },
   "source": [
    "<img src=\"15.png\" alt=\"Drawing\" style=\"width: 1600px;\"/>"
   ]
  },
  {
   "cell_type": "markdown",
   "id": "88fa945a",
   "metadata": {
    "slideshow": {
     "slide_type": "slide"
    }
   },
   "source": [
    "<img src=\"16.png\" alt=\"Drawing\" style=\"width: 1600px;\"/>"
   ]
  },
  {
   "cell_type": "markdown",
   "id": "1c145596",
   "metadata": {
    "slideshow": {
     "slide_type": "slide"
    }
   },
   "source": [
    "<img src=\"17.png\" alt=\"Drawing\" style=\"width: 1600px;\"/>"
   ]
  },
  {
   "cell_type": "markdown",
   "id": "d54518ae",
   "metadata": {
    "slideshow": {
     "slide_type": "slide"
    }
   },
   "source": [
    "<img src=\"18.png\" alt=\"Drawing\" style=\"width: 1600px;\"/>"
   ]
  },
  {
   "cell_type": "markdown",
   "id": "843bcd26",
   "metadata": {
    "slideshow": {
     "slide_type": "slide"
    }
   },
   "source": [
    "<img src=\"19.png\" alt=\"Drawing\" style=\"width: 1600px;\"/>"
   ]
  },
  {
   "cell_type": "markdown",
   "id": "c5bfed71",
   "metadata": {
    "slideshow": {
     "slide_type": "slide"
    }
   },
   "source": [
    "<img src=\"20.png\" alt=\"Drawing\" style=\"width: 1600px;\"/>"
   ]
  },
  {
   "cell_type": "markdown",
   "id": "427cfbdc",
   "metadata": {
    "slideshow": {
     "slide_type": "slide"
    }
   },
   "source": [
    "<img src=\"16a.png\" alt=\"Drawing\" style=\"width: 1600px;\"/>"
   ]
  },
  {
   "cell_type": "markdown",
   "id": "fb0b5c07",
   "metadata": {
    "slideshow": {
     "slide_type": "slide"
    }
   },
   "source": [
    "<img src=\"21.png\" alt=\"Drawing\" style=\"width: 1600px;\"/>"
   ]
  },
  {
   "cell_type": "markdown",
   "id": "15472ebb",
   "metadata": {
    "slideshow": {
     "slide_type": "slide"
    }
   },
   "source": [
    "<img src=\"22.png\" alt=\"Drawing\" style=\"width: 1600px;\"/>"
   ]
  },
  {
   "cell_type": "markdown",
   "id": "28168c28",
   "metadata": {
    "slideshow": {
     "slide_type": "slide"
    }
   },
   "source": [
    "![23.png](23.png)"
   ]
  },
  {
   "cell_type": "markdown",
   "id": "fdc53961",
   "metadata": {
    "slideshow": {
     "slide_type": "slide"
    }
   },
   "source": [
    "<img src=\"24.png\" alt=\"Drawing\" style=\"width: 1900px;\"/>"
   ]
  },
  {
   "cell_type": "markdown",
   "id": "05bf95af",
   "metadata": {
    "slideshow": {
     "slide_type": "slide"
    }
   },
   "source": [
    "![25.png](25.png)"
   ]
  },
  {
   "cell_type": "markdown",
   "id": "7127c26b",
   "metadata": {
    "slideshow": {
     "slide_type": "slide"
    }
   },
   "source": [
    "<img src=\"26.png\" alt=\"Drawing\" style=\"width: 1900px\"/>"
   ]
  },
  {
   "cell_type": "markdown",
   "id": "c8855e07",
   "metadata": {
    "slideshow": {
     "slide_type": "slide"
    }
   },
   "source": [
    "![27.png](27.png)"
   ]
  },
  {
   "cell_type": "markdown",
   "id": "8860a050",
   "metadata": {
    "slideshow": {
     "slide_type": "slide"
    }
   },
   "source": [
    "![28.png](28.png)"
   ]
  },
  {
   "cell_type": "markdown",
   "id": "357ac5d0",
   "metadata": {
    "slideshow": {
     "slide_type": "slide"
    }
   },
   "source": [
    "![29.png](29.png)"
   ]
  },
  {
   "cell_type": "markdown",
   "id": "cf0e76a7",
   "metadata": {
    "slideshow": {
     "slide_type": "slide"
    }
   },
   "source": [
    "![30.png](30.png)"
   ]
  },
  {
   "cell_type": "markdown",
   "id": "c4657d55",
   "metadata": {
    "slideshow": {
     "slide_type": "slide"
    }
   },
   "source": [
    "![31.png](31.png)"
   ]
  },
  {
   "cell_type": "markdown",
   "id": "028cfbc9",
   "metadata": {
    "slideshow": {
     "slide_type": "slide"
    }
   },
   "source": [
    "![32.png](32.png)"
   ]
  },
  {
   "cell_type": "markdown",
   "id": "15c2d2e2",
   "metadata": {
    "slideshow": {
     "slide_type": "slide"
    }
   },
   "source": [
    "![33.png](33.png)"
   ]
  },
  {
   "cell_type": "markdown",
   "id": "b46df7bc",
   "metadata": {
    "slideshow": {
     "slide_type": "slide"
    }
   },
   "source": [
    "![34.png](34.png)"
   ]
  },
  {
   "cell_type": "markdown",
   "id": "6f83bceb",
   "metadata": {
    "slideshow": {
     "slide_type": "slide"
    }
   },
   "source": [
    "<img src=\"35.png\" alt=\"Drawing\" style=\"width: 1600px;\"/>"
   ]
  },
  {
   "cell_type": "markdown",
   "id": "60961c92",
   "metadata": {
    "slideshow": {
     "slide_type": "slide"
    }
   },
   "source": [
    "<img src=\"36.png\" alt=\"Drawing\" style=\"width: 1600px;\"/>"
   ]
  },
  {
   "cell_type": "markdown",
   "id": "a1bb3506",
   "metadata": {
    "slideshow": {
     "slide_type": "skip"
    }
   },
   "source": []
  },
  {
   "cell_type": "code",
   "execution_count": null,
   "id": "23af03d8",
   "metadata": {
    "slideshow": {
     "slide_type": "skip"
    }
   },
   "outputs": [],
   "source": []
  },
  {
   "cell_type": "code",
   "execution_count": null,
   "id": "6399b735",
   "metadata": {
    "slideshow": {
     "slide_type": "skip"
    }
   },
   "outputs": [],
   "source": []
  }
 ],
 "metadata": {
  "celltoolbar": "Slideshow",
  "kernelspec": {
   "display_name": "Python 3 (ipykernel)",
   "language": "python",
   "name": "python3"
  },
  "language_info": {
   "codemirror_mode": {
    "name": "ipython",
    "version": 3
   },
   "file_extension": ".py",
   "mimetype": "text/x-python",
   "name": "python",
   "nbconvert_exporter": "python",
   "pygments_lexer": "ipython3",
   "version": "3.9.13"
  }
 },
 "nbformat": 4,
 "nbformat_minor": 5
}
