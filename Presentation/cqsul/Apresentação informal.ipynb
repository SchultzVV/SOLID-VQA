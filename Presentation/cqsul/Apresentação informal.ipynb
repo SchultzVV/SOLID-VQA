{
 "cells": [
  {
   "cell_type": "markdown",
   "id": "e3b23ed1",
   "metadata": {
    "slideshow": {
     "slide_type": "slide"
    }
   },
   "source": [
    "![1.png](1.png)"
   ]
  },
  {
   "cell_type": "markdown",
   "id": "8725f607",
   "metadata": {
    "slideshow": {
     "slide_type": "subslide"
    }
   },
   "source": [
    "![2.png](2.png)"
   ]
  },
  {
   "cell_type": "markdown",
   "id": "fe3cf032",
   "metadata": {
    "slideshow": {
     "slide_type": "subslide"
    }
   },
   "source": [
    "![3.png](3.png)"
   ]
  },
  {
   "cell_type": "markdown",
   "id": "b5ca5895",
   "metadata": {
    "slideshow": {
     "slide_type": "subslide"
    }
   },
   "source": [
    "![4.png](4.png)\n"
   ]
  },
  {
   "cell_type": "markdown",
   "id": "9b2270d3",
   "metadata": {
    "slideshow": {
     "slide_type": "subslide"
    }
   },
   "source": [
    "![5.png](5.png)"
   ]
  },
  {
   "cell_type": "markdown",
   "id": "7a83b2f3",
   "metadata": {
    "slideshow": {
     "slide_type": "subslide"
    }
   },
   "source": [
    "![6.png](6.png)"
   ]
  },
  {
   "cell_type": "markdown",
   "id": "0676c6a6",
   "metadata": {
    "slideshow": {
     "slide_type": "subslide"
    }
   },
   "source": [
    "![7.png](7.png)"
   ]
  },
  {
   "cell_type": "markdown",
   "id": "d7103c22",
   "metadata": {
    "slideshow": {
     "slide_type": "subslide"
    }
   },
   "source": [
    "![8.png](8.png)"
   ]
  },
  {
   "cell_type": "markdown",
   "id": "5d0dc76a",
   "metadata": {
    "slideshow": {
     "slide_type": "subslide"
    }
   },
   "source": [
    "![9.png](9.png)"
   ]
  },
  {
   "cell_type": "markdown",
   "id": "738ec677",
   "metadata": {
    "slideshow": {
     "slide_type": "slide"
    }
   },
   "source": [
    "![10.png](10.png)"
   ]
  },
  {
   "cell_type": "markdown",
   "id": "6f8f5af6",
   "metadata": {
    "slideshow": {
     "slide_type": "subslide"
    }
   },
   "source": [
    "![11.png](11.png)"
   ]
  },
  {
   "cell_type": "markdown",
   "id": "dd1643aa",
   "metadata": {
    "slideshow": {
     "slide_type": "subslide"
    }
   },
   "source": [
    "![12.png](12.png)"
   ]
  },
  {
   "cell_type": "markdown",
   "id": "51e43cad",
   "metadata": {
    "slideshow": {
     "slide_type": "subslide"
    }
   },
   "source": [
    "![13.png](13.png)"
   ]
  },
  {
   "cell_type": "markdown",
   "id": "5619ae3f",
   "metadata": {
    "slideshow": {
     "slide_type": "subslide"
    }
   },
   "source": [
    "![14.png](14.png)"
   ]
  },
  {
   "cell_type": "markdown",
   "id": "e70e4940",
   "metadata": {
    "slideshow": {
     "slide_type": "subslide"
    }
   },
   "source": [
    "![15.png](15.png)"
   ]
  },
  {
   "cell_type": "markdown",
   "id": "dd5a25a6",
   "metadata": {
    "slideshow": {
     "slide_type": "subslide"
    }
   },
   "source": [
    "![16.png](16.png)"
   ]
  },
  {
   "cell_type": "markdown",
   "id": "7a113a4c",
   "metadata": {
    "slideshow": {
     "slide_type": "slide"
    }
   },
   "source": [
    "![17.png](17.png)"
   ]
  },
  {
   "cell_type": "markdown",
   "id": "a0e3082a",
   "metadata": {
    "slideshow": {
     "slide_type": "subslide"
    }
   },
   "source": [
    "![18.png](18.png)"
   ]
  },
  {
   "cell_type": "markdown",
   "id": "40aef602",
   "metadata": {
    "slideshow": {
     "slide_type": "subslide"
    }
   },
   "source": [
    "![19.png](19.png)"
   ]
  },
  {
   "cell_type": "markdown",
   "id": "fe2d24ec",
   "metadata": {
    "slideshow": {
     "slide_type": "subslide"
    }
   },
   "source": [
    "![20.png](20.png)"
   ]
  },
  {
   "cell_type": "markdown",
   "id": "141b0a90",
   "metadata": {
    "slideshow": {
     "slide_type": "subslide"
    }
   },
   "source": [
    "![21.png](21.png)"
   ]
  },
  {
   "cell_type": "markdown",
   "id": "ab5e5776",
   "metadata": {
    "slideshow": {
     "slide_type": "subslide"
    }
   },
   "source": [
    "![22.png](22.png)"
   ]
  },
  {
   "cell_type": "markdown",
   "id": "70d4228e",
   "metadata": {
    "slideshow": {
     "slide_type": "subslide"
    }
   },
   "source": [
    "![23.png](23.png)"
   ]
  },
  {
   "cell_type": "markdown",
   "id": "06d13948",
   "metadata": {
    "slideshow": {
     "slide_type": "slide"
    }
   },
   "source": [
    "![24.png](24.png)"
   ]
  },
  {
   "cell_type": "markdown",
   "id": "4a7f7044",
   "metadata": {
    "slideshow": {
     "slide_type": "subslide"
    }
   },
   "source": [
    "![25.png](25.png)"
   ]
  },
  {
   "cell_type": "markdown",
   "id": "b242692e",
   "metadata": {
    "slideshow": {
     "slide_type": "subslide"
    }
   },
   "source": [
    "![26.png](26.png)"
   ]
  },
  {
   "cell_type": "markdown",
   "id": "fa7034ab",
   "metadata": {
    "slideshow": {
     "slide_type": "subslide"
    }
   },
   "source": [
    "![27.png](27.png)"
   ]
  },
  {
   "cell_type": "markdown",
   "id": "99e860ad",
   "metadata": {
    "slideshow": {
     "slide_type": "subslide"
    }
   },
   "source": [
    "![28.png](28.png)"
   ]
  },
  {
   "cell_type": "markdown",
   "id": "08a75329",
   "metadata": {
    "slideshow": {
     "slide_type": "subslide"
    }
   },
   "source": [
    "![29.png](29.png)"
   ]
  },
  {
   "cell_type": "markdown",
   "id": "71375691",
   "metadata": {
    "slideshow": {
     "slide_type": "subslide"
    }
   },
   "source": [
    "![30.png](30.png)"
   ]
  },
  {
   "cell_type": "markdown",
   "id": "d5aa77b0",
   "metadata": {
    "slideshow": {
     "slide_type": "skip"
    }
   },
   "source": []
  },
  {
   "cell_type": "markdown",
   "id": "21eb1990",
   "metadata": {
    "slideshow": {
     "slide_type": "skip"
    }
   },
   "source": []
  },
  {
   "cell_type": "markdown",
   "id": "fa709961",
   "metadata": {
    "slideshow": {
     "slide_type": "skip"
    }
   },
   "source": []
  }
 ],
 "metadata": {
  "celltoolbar": "Slideshow",
  "kernelspec": {
   "display_name": "Python 3 (ipykernel)",
   "language": "python",
   "name": "python3"
  },
  "language_info": {
   "codemirror_mode": {
    "name": "ipython",
    "version": 3
   },
   "file_extension": ".py",
   "mimetype": "text/x-python",
   "name": "python",
   "nbconvert_exporter": "python",
   "pygments_lexer": "ipython3",
   "version": "3.9.13"
  }
 },
 "nbformat": 4,
 "nbformat_minor": 5
}
